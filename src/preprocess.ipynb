{
 "cells": [
  {
   "cell_type": "markdown",
   "id": "68b0e1c5",
   "metadata": {},
   "source": [
    "# Preprocessing"
   ]
  },
  {
   "cell_type": "code",
   "execution_count": null,
   "id": "b20adde7",
   "metadata": {},
   "outputs": [],
   "source": [
    "import pandas as pd\n",
    "import numpy as np\n",
    "import networkx as nx\n",
    "import matplotlib.pyplot as plt\n",
    "import ast\n",
    "import csv"
   ]
  },
  {
   "cell_type": "code",
   "execution_count": null,
   "id": "c3d330d7",
   "metadata": {},
   "outputs": [],
   "source": [
    "def parse_edgelist(edgelist_str):\n",
    "    \"\"\"\n",
    "    - Parse the edge list string to a list of tuples\n",
    "    \"\"\"\n",
    "    return ast.literal_eval(edgelist_str)"
   ]
  },
  {
   "cell_type": "code",
   "execution_count": null,
   "id": "3a409523",
   "metadata": {},
   "outputs": [],
   "source": [
    "def centralities(edgelist):\n",
    "    \"\"\"\n",
    "    - edgelist is a list of node pairs e.g. [(7,2),(1,7),(1,9),...]\n",
    "    - returns a dictionary of vertex -> (centrality values)\n",
    "    \"\"\"\n",
    "    T = nx.from_edgelist(edgelist)\n",
    "    dc = nx.degree_centrality(T)\n",
    "    cc = nx.harmonic_centrality(T)\n",
    "    bc = nx.betweenness_centrality(T)\n",
    "    pc = nx.pagerank(T)\n",
    "    return {v: (dc[v], cc[v], bc[v], pc[v]) for v in T}"
   ]
  },
  {
   "cell_type": "code",
   "execution_count": null,
   "id": "2f4947be",
   "metadata": {},
   "outputs": [],
   "source": [
    "def read_data(file_path):\n",
    "    \"\"\"\n",
    "    - Read the training data from CSV file\n",
    "    \"\"\"\n",
    "    return pd.read_csv(file_path)"
   ]
  },
  {
   "cell_type": "code",
   "execution_count": null,
   "id": "65cafdd9",
   "metadata": {},
   "outputs": [],
   "source": [
    "def generate_binary_classification_dataset(data):\n",
    "    \"\"\"\n",
    "    - Generate a binary classification dataset from the input data\n",
    "    \"\"\"\n",
    "    all_rows = []\n",
    "    \n",
    "    for _, row in data.iterrows():\n",
    "        language = row['language']\n",
    "        sentence_id = row['sentence']\n",
    "        n = row['n']  \n",
    "        edgelist = parse_edgelist(row['edgelist'])\n",
    "        root = int(row['root'])\n",
    "        \n",
    "        # Compute centrality metrics using the provided function\n",
    "        cent_dict = centralities(edgelist)\n",
    "        \n",
    "        # Create rows for each vertex\n",
    "        for vertex, (degree, closeness, betweenness, pagerank) in cent_dict.items():\n",
    "            is_root = 1 if vertex == root else 0\n",
    "            \n",
    "            row_data = {\n",
    "                'language': language,\n",
    "                'sentence': sentence_id,\n",
    "                'n': n,\n",
    "                'vertex': vertex,\n",
    "                'degree': degree,\n",
    "                'closeness': closeness,\n",
    "                'betweenness': betweenness,\n",
    "                'pagerank': pagerank,\n",
    "                'is_root': is_root\n",
    "            }\n",
    "            \n",
    "            all_rows.append(row_data)\n",
    "    \n",
    "    result = pd.DataFrame(all_rows)\n",
    "    return result"
   ]
  },
  {
   "cell_type": "markdown",
   "id": "061fe0c6",
   "metadata": {},
   "source": [
    "## Load Data"
   ]
  },
  {
   "cell_type": "code",
   "execution_count": null,
   "id": "e9169204",
   "metadata": {},
   "outputs": [],
   "source": [
    "# Read the training data\n",
    "train_data = pd.read_csv('../data/train.csv')\n",
    "train_data.head(10)"
   ]
  },
  {
   "cell_type": "code",
   "execution_count": null,
   "id": "71740c53",
   "metadata": {},
   "outputs": [],
   "source": [
    "# Generate binary classification dataset from training data\n",
    "expanded_dataset = generate_binary_classification_dataset(train_data)\n",
    "expanded_dataset.head(10)"
   ]
  }
 ],
 "metadata": {
  "kernelspec": {
   "display_name": "Python 3 (ipykernel)",
   "language": "python",
   "name": "python3"
  },
  "language_info": {
   "codemirror_mode": {
    "name": "ipython",
    "version": 3
   },
   "file_extension": ".py",
   "mimetype": "text/x-python",
   "name": "python",
   "nbconvert_exporter": "python",
   "pygments_lexer": "ipython3",
   "version": "3.12.7"
  }
 },
 "nbformat": 4,
 "nbformat_minor": 5
}
